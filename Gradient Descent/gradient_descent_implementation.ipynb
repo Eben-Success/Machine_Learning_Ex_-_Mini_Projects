{
 "cells": [
  {
   "cell_type": "code",
   "execution_count": 14,
   "metadata": {},
   "outputs": [
    {
     "name": "stdout",
     "output_type": "stream",
     "text": [
      "m: 0.062, b: 89.0, cost: 0.018000000000000002, iteration: 0\n",
      "\n",
      "m: 0.122528, b: 84.881304, cost: 0.035592000000000006, iteration: 1\n",
      "\n",
      "m: 0.181618832, b: 80.955185108544, cost: 0.052785648000000004, iteration: 2\n",
      "\n",
      "m: 0.239306503808, b: 77.21263768455901, cost: 0.069590363712, iteration: 3\n",
      "\n",
      "m: 0.29562421854195203, b: 73.64507722605434, cost: 0.086015343961728, iteration: 4\n",
      "\n",
      "m: 0.35060439367025875, b: 70.2443206760065, cost: 0.10206956796255283, iteration: 5\n",
      "\n",
      "m: 0.40427867960173774, b: 67.00256764921804, cost: 0.11776180246460617, iteration: 6\n",
      "\n",
      "m: 0.4566779778357119, b: 63.912382537082294, cost: 0.13310060678206653, iteration: 7\n",
      "\n",
      "m: 0.5078324586826338, b: 60.966677449199324, cost: 0.14809433770148814, iteration: 8\n",
      "\n",
      "m: 0.5577715785654069, b: 58.15869595270883, cost: 0.16275115427398937, iteration: 9\n",
      "\n"
     ]
    }
   ],
   "source": [
    "import numpy as np\n",
    "\n",
    "def gradient_descent(x,y):\n",
    "    m_curr = b_curr = 0\n",
    "    iterations = 10\n",
    "    n = len(x)\n",
    "    learning_rate = 0.001\n",
    "\n",
    "    for i in range(iterations):\n",
    "        y_predicted = m_curr * x + b_curr\n",
    "        cost = (1/n) * sum([val**2 for val in (y-y_predicted)])\n",
    "        md = -(2/n) * sum(x * (y-y_predicted))\n",
    "        bd = -(2/n) * sum(y-y_predicted)\n",
    "        m_curr = m_curr - learning_rate * md\n",
    "        b_curr = b_curr - learning_rate * bd\n",
    "        print(\"m: {}, b: {}, cost: {}, iteration: {}\\n\".format(m_curr, cost, b_curr,i))\n",
    "\n",
    "\n",
    "x = np.array([1,2,3,4,5])\n",
    "y = np.array([5,7,9,11,13])\n",
    "\n",
    "gradient_descent(x,y)"
   ]
  },
  {
   "cell_type": "code",
   "execution_count": null,
   "metadata": {},
   "outputs": [],
   "source": []
  }
 ],
 "metadata": {
  "kernelspec": {
   "display_name": "Python 3.9.12 ('base')",
   "language": "python",
   "name": "python3"
  },
  "language_info": {
   "codemirror_mode": {
    "name": "ipython",
    "version": 3
   },
   "file_extension": ".py",
   "mimetype": "text/x-python",
   "name": "python",
   "nbconvert_exporter": "python",
   "pygments_lexer": "ipython3",
   "version": "3.9.12"
  },
  "orig_nbformat": 4,
  "vscode": {
   "interpreter": {
    "hash": "044bd8377869109dcb093f44f850f98d78c1f8adfffaaaa1f0128c3238e36a11"
   }
  }
 },
 "nbformat": 4,
 "nbformat_minor": 2
}
